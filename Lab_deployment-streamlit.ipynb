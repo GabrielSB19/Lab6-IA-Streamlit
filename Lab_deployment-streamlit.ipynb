{
 "cells": [
  {
   "cell_type": "markdown",
   "id": "diagnostic-failing",
   "metadata": {},
   "source": [
    "Integrantes\n",
    "\n",
    "+ Nombre:, código:\n",
    "+ Nombre:, código:"
   ]
  },
  {
   "cell_type": "markdown",
   "id": "outdoor-separate",
   "metadata": {},
   "source": [
    "## Spaceship"
   ]
  },
  {
   "cell_type": "markdown",
   "id": "ecological-carroll",
   "metadata": {},
   "source": [
    "1. Proponga un modelo para el reto en Kaggle [Spaceship Titanic](https://www.kaggle.com/competitions/spaceship-titanic), tenga presente que el contexto y los datos son distintos\n",
    "\n",
    "*Desarrolle una aplicación web con streamlit teniendo como base los siguientes requerimientos:*\n",
    "\n",
    "2. El sistema debe contar con los elementos de visualización web que se presentan en las siguientes capturas de pantalla\n",
    "3. El sistema debe presentar la tabla de datos\n",
    "4. El sistema debe presentar la visualización de barras\n",
    "5. El sistema debe presentar el resultado del modelo a partir de las entradas del usuario"
   ]
  },
  {
   "attachments": {},
   "cell_type": "markdown",
   "id": "a9800848",
   "metadata": {},
   "source": [
    "## Integrantes\n",
    "\n",
    "1. Gabriel Suarez\n",
    "2. Alejandro Varela\n",
    "3. Samuel Hernandez\n",
    "4. Santiago Arevalo"
   ]
  },
  {
   "cell_type": "code",
   "execution_count": 40,
   "id": "abcd835e",
   "metadata": {},
   "outputs": [],
   "source": [
    "import pandas as pd\n",
    "import numpy as np\n",
    "import matplotlib as plt\n",
    "import seaborn as sns\n",
    "from sklearn.preprocessing import LabelEncoder\n",
    "from sklearn.tree import DecisionTreeClassifier\n",
    "from sklearn.model_selection import train_test_split\n",
    "import joblib"
   ]
  },
  {
   "cell_type": "code",
   "execution_count": 41,
   "id": "4ba847fe",
   "metadata": {},
   "outputs": [
    {
     "name": "stdout",
     "output_type": "stream",
     "text": [
      "<class 'pandas.core.frame.DataFrame'>\n",
      "RangeIndex: 8693 entries, 0 to 8692\n",
      "Data columns (total 12 columns):\n",
      " #   Column        Non-Null Count  Dtype  \n",
      "---  ------        --------------  -----  \n",
      " 0   HomePlanet    8492 non-null   object \n",
      " 1   CryoSleep     8476 non-null   object \n",
      " 2   Cabin         8494 non-null   object \n",
      " 3   Destination   8511 non-null   object \n",
      " 4   Age           8514 non-null   float64\n",
      " 5   VIP           8490 non-null   object \n",
      " 6   RoomService   8512 non-null   float64\n",
      " 7   FoodCourt     8510 non-null   float64\n",
      " 8   ShoppingMall  8485 non-null   float64\n",
      " 9   Spa           8510 non-null   float64\n",
      " 10  VRDeck        8505 non-null   float64\n",
      " 11  Transported   8693 non-null   bool   \n",
      "dtypes: bool(1), float64(6), object(5)\n",
      "memory usage: 755.7+ KB\n"
     ]
    }
   ],
   "source": [
    "df = pd.read_csv('train.csv')\n",
    "df.drop([\"PassengerId\"], axis=1, inplace=True)\n",
    "df.drop([\"Name\"], axis=1, inplace=True)\n",
    "df.info()"
   ]
  },
  {
   "cell_type": "code",
   "execution_count": 42,
   "id": "fdc6dedd",
   "metadata": {},
   "outputs": [],
   "source": [
    "df = df.dropna()"
   ]
  },
  {
   "cell_type": "code",
   "execution_count": 43,
   "id": "d8209e27",
   "metadata": {},
   "outputs": [
    {
     "name": "stdout",
     "output_type": "stream",
     "text": [
      "<class 'pandas.core.frame.DataFrame'>\n",
      "Int64Index: 6764 entries, 0 to 8692\n",
      "Data columns (total 12 columns):\n",
      " #   Column        Non-Null Count  Dtype  \n",
      "---  ------        --------------  -----  \n",
      " 0   HomePlanet    6764 non-null   int32  \n",
      " 1   CryoSleep     6764 non-null   int32  \n",
      " 2   Cabin         6764 non-null   int32  \n",
      " 3   Destination   6764 non-null   int32  \n",
      " 4   Age           6764 non-null   float64\n",
      " 5   VIP           6764 non-null   int32  \n",
      " 6   RoomService   6764 non-null   float64\n",
      " 7   FoodCourt     6764 non-null   float64\n",
      " 8   ShoppingMall  6764 non-null   float64\n",
      " 9   Spa           6764 non-null   float64\n",
      " 10  VRDeck        6764 non-null   float64\n",
      " 11  Transported   6764 non-null   bool   \n",
      "dtypes: bool(1), float64(6), int32(5)\n",
      "memory usage: 508.6 KB\n"
     ]
    }
   ],
   "source": [
    "encoder = LabelEncoder()\n",
    "df[\"HomePlanet\"] = encoder.fit_transform(df[\"HomePlanet\"])\n",
    "df[\"CryoSleep\"] = encoder.fit_transform(df[\"CryoSleep\"])\n",
    "df[\"Cabin\"] = encoder.fit_transform(df[\"Cabin\"])\n",
    "df[\"Destination\"] = encoder.fit_transform(df[\"Destination\"])\n",
    "df[\"VIP\"] = encoder.fit_transform(df[\"VIP\"])\n",
    "df.info()"
   ]
  },
  {
   "cell_type": "code",
   "execution_count": 44,
   "id": "d427125e",
   "metadata": {},
   "outputs": [
    {
     "name": "stdout",
     "output_type": "stream",
     "text": [
      "0.7405764966740577\n"
     ]
    },
    {
     "data": {
      "text/plain": [
       "['model.joblib']"
      ]
     },
     "execution_count": 44,
     "metadata": {},
     "output_type": "execute_result"
    }
   ],
   "source": [
    "X_train, X_test, y_train, y_test = train_test_split(df.drop([\"Transported\"], axis=1), df[\"Transported\"], test_size=0.2, random_state=42)\n",
    "\n",
    "model = DecisionTreeClassifier()\n",
    "model.fit(X_train, y_train)\n",
    "print(model.score(X_test, y_test))\n",
    "model.predict(X_test)\n",
    "\n",
    "joblib.dump(model, 'model.joblib')"
   ]
  },
  {
   "cell_type": "markdown",
   "id": "experienced-layer",
   "metadata": {},
   "source": [
    "<img src=\"space1.png\"/>"
   ]
  },
  {
   "cell_type": "markdown",
   "id": "included-snapshot",
   "metadata": {},
   "source": [
    "<img src=\"space2.png\"/>"
   ]
  },
  {
   "cell_type": "markdown",
   "id": "operational-solution",
   "metadata": {},
   "source": [
    "<img src=\"space3.png\"/>"
   ]
  },
  {
   "cell_type": "markdown",
   "id": "minimal-opportunity",
   "metadata": {},
   "source": [
    "# Entregables\n",
    "\n",
    "+ Un entregable es el presente notebook\n",
    "    + Con los nombres de los integrantes.\n",
    "    + Con el proceso del desarrollo del modelo para el reto de datos\n",
    "    + Con la respuesta a las preguntas\n",
    "+ Un archivo python (.py) para la aplicación web de Spaceship Titanic"
   ]
  },
  {
   "cell_type": "markdown",
   "id": "linear-liabilities",
   "metadata": {},
   "source": [
    "# Referencias"
   ]
  },
  {
   "cell_type": "markdown",
   "id": "satellite-nicaragua",
   "metadata": {},
   "source": [
    "+ https://streamlit.io/\n",
    "+ https://scikit-learn.org/stable/modules/model_persistence.html"
   ]
  }
 ],
 "metadata": {
  "kernelspec": {
   "display_name": "Python 3 (ipykernel)",
   "language": "python",
   "name": "python3"
  },
  "language_info": {
   "codemirror_mode": {
    "name": "ipython",
    "version": 3
   },
   "file_extension": ".py",
   "mimetype": "text/x-python",
   "name": "python",
   "nbconvert_exporter": "python",
   "pygments_lexer": "ipython3",
   "version": "3.10.11"
  }
 },
 "nbformat": 4,
 "nbformat_minor": 5
}
